{
 "cells": [
  {
   "cell_type": "code",
   "execution_count": null,
   "metadata": {},
   "outputs": [],
   "source": [
    "#Question ---> Polar Coordinates\n",
    "\n",
    "import cmath\n",
    "complexx=complex(input())\n",
    "print(abs(complexx))\n",
    "print(cmath.phase(complexx))"
   ]
  },
  {
   "cell_type": "code",
   "execution_count": 1,
   "metadata": {},
   "outputs": [],
   "source": [
    "#Question ---> Find Angle MBC\n",
    "\n",
    "import math\n",
    "ab=int(input())\n",
    "bc=int(input())\n",
    "theta=(math.atan2(ab,bc))\n",
    "print(str(int(round((math.degrees(theta)))))+\"\\N{DEGREE SIGN}\")"
   ]
  },
  {
   "cell_type": "code",
   "execution_count": 6,
   "metadata": {},
   "outputs": [],
   "source": [
    "#Question ---> Triangle Quest 2\n",
    "\n",
    "for i in range(1,int(input())+1): \n",
    "    print((10**i//9)**2)"
   ]
  },
  {
   "cell_type": "code",
   "execution_count": 7,
   "metadata": {},
   "outputs": [],
   "source": [
    "#Question ---> Mod Divmod\n",
    "\n",
    "# Enter your code here. Read input from STDIN. Print output to STDOUT\n",
    "a=int(input())\n",
    "b=int(input())\n",
    "print(a//b)\n",
    "print(a%b)\n",
    "print(str(\"(\" + str(a//b) +', ' + str(a%b) + ')'))"
   ]
  },
  {
   "cell_type": "code",
   "execution_count": 8,
   "metadata": {},
   "outputs": [],
   "source": [
    "#Question ---> Power - Mod Power\n",
    "\n",
    "a=float(input())\n",
    "b=float(input())\n",
    "m=float(input())\n",
    "k=a**b\n",
    "l=k%m\n",
    "print(int(k))\n",
    "print(int(l))"
   ]
  },
  {
   "cell_type": "code",
   "execution_count": 9,
   "metadata": {},
   "outputs": [],
   "source": [
    "#Question ---> Integers Come In All Sizes\n",
    "\n",
    "a=int(input())\n",
    "b=int(input())\n",
    "c=int(input())\n",
    "d=int(input())\n",
    "print((a**b)+(c**d))"
   ]
  },
  {
   "cell_type": "code",
   "execution_count": 10,
   "metadata": {},
   "outputs": [],
   "source": [
    "#Question ---> Triangle Quest\n",
    "\n",
    "for i in range(1,int(input())):\n",
    "    print(((10**i)//9)*i)\n"
   ]
  }
 ],
 "metadata": {
  "kernelspec": {
   "display_name": "Python 3",
   "language": "python",
   "name": "python3"
  },
  "language_info": {
   "codemirror_mode": {
    "name": "ipython",
    "version": 3
   },
   "file_extension": ".py",
   "mimetype": "text/x-python",
   "name": "python",
   "nbconvert_exporter": "python",
   "pygments_lexer": "ipython3",
   "version": "3.8.5"
  }
 },
 "nbformat": 4,
 "nbformat_minor": 4
}
