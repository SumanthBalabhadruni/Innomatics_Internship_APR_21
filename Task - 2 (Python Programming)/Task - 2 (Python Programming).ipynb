{
 "cells": [
  {
   "cell_type": "code",
   "execution_count": null,
   "metadata": {},
   "outputs": [],
   "source": [
    "#Question ---> List Comprehensions\n",
    "\n",
    "if __name__ == '__main__':\n",
    "    x = int(input())\n",
    "    y = int(input())\n",
    "    z = int(input())\n",
    "    n = int(input())\n",
    "result=[]\n",
    "for i in range(x+1):\n",
    "    for j in range(y+1):\n",
    "        for k in range(z+1):\n",
    "            if (i+j+k!=n):\n",
    "                result.append([i, j, k])\n",
    "print(result)"
   ]
  },
  {
   "cell_type": "code",
   "execution_count": null,
   "metadata": {},
   "outputs": [],
   "source": [
    "#Question ---> Find the Runner-Up Score!\n",
    "\n",
    "if __name__ == '__main__':\n",
    "    n = int(raw_input())\n",
    "    arr = map(int, raw_input().split())\n",
    "m1 = max(arr)\n",
    "m2 = -9999999999\n",
    "for i in range(n):\n",
    "    if arr[i] != m1 and arr[i] > m2:\n",
    "        m2 = arr[i]\n",
    "print m2"
   ]
  },
  {
   "cell_type": "code",
   "execution_count": null,
   "metadata": {},
   "outputs": [],
   "source": [
    "#Question ---> Nested Lists\n",
    "\n",
    "if __name__ == '__main__':\n",
    "    marks=[]\n",
    "    names=[]\n",
    "    n=int(input())\n",
    "    for _ in range(n):\n",
    "        names.append(input())\n",
    "        marks.append(float(input()))\n",
    "\n",
    "maxx=-10000000\n",
    "minn=10000000000\n",
    "for i in range(n):\n",
    "    if marks[i]<minn:\n",
    "        maxx=minn\n",
    "        minn=marks[i]\n",
    "        \n",
    "    elif marks[i]>minn and marks[i]<maxx:\n",
    "        maxx=marks[i]\n",
    "k=[]\n",
    "for i in range(n):\n",
    "    if maxx==marks[i]:\n",
    "        k.append(names[i])\n",
    "k=sorted(k)\n",
    "for i in range(len(k)):\n",
    "    print(k[i])\n"
   ]
  },
  {
   "cell_type": "code",
   "execution_count": null,
   "metadata": {},
   "outputs": [],
   "source": [
    "#Question ---> Finding the percentage\n",
    "\n",
    "if __name__ == '__main__':\n",
    "    n = int(input())\n",
    "    student_marks = {}\n",
    "    for _ in range(n):\n",
    "        name, *line = input().split()\n",
    "        scores = list(map(float, line))\n",
    "        student_marks[name] = scores\n",
    "    query_name = input()\n",
    "k=0\n",
    "for i in range(3):\n",
    "    k=k+(student_marks[query_name][i])\n",
    "\n",
    "print(\"%.2f\" % round(k/3,2))"
   ]
  },
  {
   "cell_type": "code",
   "execution_count": null,
   "metadata": {},
   "outputs": [],
   "source": [
    "#Question ---> Lists\n",
    "\n",
    "if __name__ == '__main__':\n",
    "    N = int(raw_input()) \n",
    "arr=[]\n",
    "for i in range(N):\n",
    "    s = raw_input().split()\n",
    "    for i in range(1,len(s)):\n",
    "        s[i] = int(s[i])\n",
    "        \n",
    "    if s[0] == \"append\":\n",
    "        arr.append(s[1])\n",
    "    elif s[0] == \"extend\":    \n",
    "        arr.extend(s[1:])\n",
    "    elif s[0] == \"insert\":\n",
    "        arr.insert(s[1],s[2])\n",
    "    elif s[0] == \"remove\":\n",
    "        arr.remove(s[1])\n",
    "    elif s[0] == \"pop\":\n",
    "        arr.pop()\n",
    "    elif s[0] == \"index\":\n",
    "        print arr.index(s[1])\n",
    "    elif s[0] == \"count\":\n",
    "        print arr.count(s[1])\n",
    "    elif s[0] == \"sort\":\n",
    "        arr.sort()\n",
    "    elif s[0] == \"reverse\":\n",
    "        arr.reverse()\n",
    "    elif s[0] == \"print\":\n",
    "        print arr"
   ]
  },
  {
   "cell_type": "code",
   "execution_count": null,
   "metadata": {},
   "outputs": [],
   "source": [
    "#Question ---> Tuples\n",
    "\n",
    "if __name__ == '__main__':\n",
    "    n = int(input())\n",
    "    integer_list = tuple(map(int, input().split()))\n",
    "print(hash(integer_list))"
   ]
  },
  {
   "cell_type": "code",
   "execution_count": 2,
   "metadata": {},
   "outputs": [],
   "source": [
    "#Question ---> Introduction to Sets\n",
    "\n",
    "def average(array):\n",
    "    array=set(array)\n",
    "    return (sum(array)/len(array))\n",
    "\n",
    "if __name__ == '__main__':\n",
    "    n = int(input())\n",
    "    arr = list(map(int, input().split()))\n",
    "    result = average(arr)\n",
    "    print(result)"
   ]
  },
  {
   "cell_type": "code",
   "execution_count": 4,
   "metadata": {},
   "outputs": [],
   "source": [
    "#Question --->No Idea! \n",
    "\n",
    "input()\n",
    "arr = map(int , input().split())\n",
    "n = set(map(int , input().split()))\n",
    "m = set(map(int , input().split()))\n",
    "k=0\n",
    "for i in arr:\n",
    "    if i in n:\n",
    "        k=k+1\n",
    "    if i in m:\n",
    "        k=k-1\n",
    "print(k)\n",
    "        "
   ]
  },
  {
   "cell_type": "code",
   "execution_count": null,
   "metadata": {},
   "outputs": [],
   "source": [
    "#Question ---> symmetric difference\n",
    "\n",
    "p=float(raw_input())\n",
    "first = set(map(int ,raw_input().split(\" \")));\n",
    "q=float(raw_input())\n",
    "second = set(map(int ,raw_input().split(\" \")));\n",
    "first = (first.union(second)).difference(first.intersection(second))\n",
    "first = list(first)\n",
    "first.sort()\n",
    "for x in first:\n",
    "    print x\n",
    "\n",
    "\n"
   ]
  },
  {
   "cell_type": "code",
   "execution_count": null,
   "metadata": {},
   "outputs": [],
   "source": [
    "#Question ---> set.add()\n",
    "\n",
    "stamp=[]\n",
    "for _ in range(int(input())):\n",
    "    stamp.append(input().strip())\n",
    "stamp=set(stamp)\n",
    "print(len(stamp))\n"
   ]
  },
  {
   "cell_type": "code",
   "execution_count": 5,
   "metadata": {},
   "outputs": [],
   "source": [
    "#Question ---> Set .discard(), .remove() & .pop()\n",
    "\n",
    "n = input()\n",
    "s = set(map(int, raw_input().split()))\n",
    "for i in range(int(raw_input())):\n",
    "    a=list(raw_input().strip().split())\n",
    "    if a[0] == 'pop':\n",
    "        s.pop()\n",
    "    elif a[0] == 'discard':\n",
    "        s.discard(int(a[1]))\n",
    "    else:\n",
    "        s.remove(int(a[1]))\n",
    "print sum(s)    \n",
    "\n"
   ]
  },
  {
   "cell_type": "code",
   "execution_count": null,
   "metadata": {},
   "outputs": [],
   "source": [
    "#Question ---> Set .union() Operation\n",
    "\n",
    "input()\n",
    "s1=set(map(int,input().split()))\n",
    "input()\n",
    "s1=s1.union(set(map(int,input().split()))) \n",
    "print(len(s1))\n",
    "\n"
   ]
  },
  {
   "cell_type": "code",
   "execution_count": null,
   "metadata": {},
   "outputs": [],
   "source": [
    "#Question ---> Set .intersection() Operation\n",
    "\n",
    "a=int(input())\n",
    "set1=set(input().split())\n",
    "b=int(input())\n",
    "set2= set(input().split())\n",
    "k=len(set1 & set2)\n",
    "print(k)\n"
   ]
  },
  {
   "cell_type": "code",
   "execution_count": null,
   "metadata": {},
   "outputs": [],
   "source": [
    "#Question ---> Set .difference() Operation\n",
    "\n",
    "input()\n",
    "s1 = set(map(int,input().split()))\n",
    "input()\n",
    "s1 = s1.difference(set(map(int,input().split()))) \n",
    "print(len(s1))\n"
   ]
  },
  {
   "cell_type": "code",
   "execution_count": null,
   "metadata": {},
   "outputs": [],
   "source": [
    "#Question ---> Set .symmetric_difference() Operation\n",
    "\n",
    "input()\n",
    "s1 = set(map(int,input().split()))\n",
    "input()\n",
    "s1 = s1.symmetric_difference(set(map(int,input().split()))) \n",
    "print(len(s1))\n",
    "\n",
    "\n"
   ]
  },
  {
   "cell_type": "code",
   "execution_count": null,
   "metadata": {},
   "outputs": [],
   "source": [
    "#Question ---> Set Mutations\n",
    "\n",
    "# Enter your code here. Read input from STDIN. Print output to STDOUT\n",
    "int(input())\n",
    "s=set(map(int,input().split()))\n",
    "for i in range(int(input())):\n",
    "    x=list(input().split())\n",
    "    if x[0] == 'update':\n",
    "        a=set(map(int,input().split()))\n",
    "        s |= (a)\n",
    "    elif x[0] == 'intersection_update':\n",
    "        a=set(map(int,input().split()))\n",
    "        s.intersection_update(a)\n",
    "    elif x[0] == 'difference_update':\n",
    "        a=set(map(int,input().split()))\n",
    "        s.difference_update(a)\n",
    "    elif x[0] == 'symmetric_difference_update':\n",
    "        a=set(map(int,input().split()))\n",
    "        s.symmetric_difference_update(a)\n",
    "print(sum(s))\n",
    "     \n"
   ]
  },
  {
   "cell_type": "code",
   "execution_count": null,
   "metadata": {},
   "outputs": [],
   "source": [
    "#Question ---> The Captain's Room\n",
    "\n",
    "k = int(input())\n",
    "arr = map(int , input().split())\n",
    "arr = list(arr)\n",
    "s = set(arr)\n",
    "sett = sum(s)\n",
    "arr = sum(arr)\n",
    "ans = arr-sett*k\n",
    "k=int(-ans/(k-1))\n",
    "print(k)\n"
   ]
  },
  {
   "cell_type": "code",
   "execution_count": null,
   "metadata": {},
   "outputs": [],
   "source": [
    "#Question ---> check Subset\n",
    "\n",
    "n=int(input())\n",
    "for i in range(n):\n",
    "    p=int(input())\n",
    "    set1=set(input().split())\n",
    "    q=int(input())\n",
    "    set2=set(input().split())\n",
    "    print(set1<=set2)\n",
    "\n"
   ]
  },
  {
   "cell_type": "code",
   "execution_count": null,
   "metadata": {},
   "outputs": [],
   "source": [
    "#Question ---> Check Strict Superset\n",
    "\n",
    "# Enter your code here. Read input from STDIN. Print output to STDOUT\n",
    "arr=set(map(int,input().split()))\n",
    "size=int(input())\n",
    "result=[]\n",
    "new=0\n",
    "for i in range(size):\n",
    "    new=set(map(int,input().split()))\n",
    "    result.append(arr>new)\n",
    "print(all(result))\n",
    "\n",
    "\n"
   ]
  }
 ],
 "metadata": {
  "kernelspec": {
   "display_name": "Python 3",
   "language": "python",
   "name": "python3"
  },
  "language_info": {
   "codemirror_mode": {
    "name": "ipython",
    "version": 3
   },
   "file_extension": ".py",
   "mimetype": "text/x-python",
   "name": "python",
   "nbconvert_exporter": "python",
   "pygments_lexer": "ipython3",
   "version": "3.8.5"
  }
 },
 "nbformat": 4,
 "nbformat_minor": 4
}
