{
 "cells": [
  {
   "cell_type": "code",
   "execution_count": null,
   "metadata": {},
   "outputs": [],
   "source": [
    "# Question ---> Day 4: Binomial Distribution I {https://www.hackerrank.com/challenges/s10-binomial-distribution-1}\n",
    "\n",
    "p=1.09/2.09\n",
    "k=0\n",
    "n=6\n",
    "def fact(n):\n",
    "    k=1\n",
    "    i=1\n",
    "    while i<n+1:\n",
    "        k=k*i\n",
    "        i+=1\n",
    "    return k\n",
    "def bino(n,r):\n",
    "for i in range(3):\n",
    "    k=k+((bino(n,i))*(p**i)*((1-p)**(n-i)))\n",
    "k=1-k    \n",
    "print(round(k,3))"
   ]
  },
  {
   "cell_type": "code",
   "execution_count": null,
   "metadata": {},
   "outputs": [],
   "source": [
    "# Question ---> Day 4: Binomial Distribution II {https://www.hackerrank.com/challenges/s10-binomial-distribution-2}\n",
    "\n",
    "p=0.12\n",
    "n=10\n",
    "k=0\n",
    "def fact(n):\n",
    "    k=1\n",
    "    i=1\n",
    "    while i<n+1:\n",
    "        k=k*i\n",
    "        i+=1\n",
    "    return k\n",
    "def bino(n,r):\n",
    "    return fact(n)/((fact(r))*(fact(n-r)))\n",
    "for i in range(3):\n",
    "    k=k+((bino(n,i))*(p**i)*((1-p)**(n-i)))   \n",
    "print(round(k,3))\n",
    "t=((bino(n,2))*(p**2)*((1-p)**(n-2)))\n",
    "print(round(1-k+t,3))"
   ]
  },
  {
   "cell_type": "code",
   "execution_count": null,
   "metadata": {},
   "outputs": [],
   "source": [
    "# Question ---> Day 5: Normal Distribution I {https://www.hackerrank.com/challenges/s10-normal-distribution-1} \n",
    "\n",
    "import math\n",
    "def c_d_f(x,u,sd):\n",
    "    out=(0.5*(1+math.erf((x-u)/(sd*math.sqrt(2)))))\n",
    "    return out\n",
    "fir=c_d_f(19.5,20,2)\n",
    "print(fir)\n",
    "u2=(c_d_f(22,20,2))\n",
    "u1=(c_d_f(20,20,2))\n",
    "sec=u2-u1\n",
    "print(sec)"
   ]
  },
  {
   "cell_type": "code",
   "execution_count": null,
   "metadata": {},
   "outputs": [],
   "source": [
    "# Question --->Day 5: Normal Distribution II {https://www.hackerrank.com/challenges/s10-normal-distribution-2}\n",
    "\n",
    "import math\n",
    "def c_d_f(x,u,sd):\n",
    "    out=(0.5*(1+math.erf((x-u)/(sd*math.sqrt(2)))))\n",
    "    return out\n",
    "print(round(100*(1-c_d_f(80,70,10)),2))\n",
    "print(round(100*(1-c_d_f(60,70,10)),2))\n",
    "print(round(100*(c_d_f(60,70,10)),2))"
   ]
  },
  {
   "cell_type": "code",
   "execution_count": null,
   "metadata": {},
   "outputs": [],
   "source": [
    "# Question ----> Day 6: The Central Limit Theorem I {https://www.hackerrank.com/challenges/s10-the-central-limit-theorem-1}\n",
    "\n",
    "import math\n",
    "def c_d_f(x,u,sd):\n",
    "    out=(0.5*(1+math.erf((x-u)/(sd*math.sqrt(2)))))\n",
    "    return out\n",
    "u=49*205\n",
    "sd=7*15\n",
    "k=c_d_f(9800,u,sd)\n",
    "print(round(k,4))"
   ]
  },
  {
   "cell_type": "code",
   "execution_count": null,
   "metadata": {},
   "outputs": [],
   "source": [
    "# Question ---> Day 6: The Central Limit Theorem II {https://www.hackerrank.com/challenges/s10-the-central-limit-theorem-2}\n",
    "\n",
    "import math\n",
    "def c_d_f(x,u,sd):\n",
    "    out=(0.5*(1+math.erf((x-u)/(sd*math.sqrt(2)))))\n",
    "    return out\n",
    "u=100*2.4\n",
    "sd=10*2\n",
    "k=c_d_f(250,u,sd)\n",
    "print(round(k,4))"
   ]
  },
  {
   "cell_type": "code",
   "execution_count": null,
   "metadata": {},
   "outputs": [],
   "source": [
    "# Question ---> Day 6: The Central Limit Theorem III {https://www.hackerrank.com/challenges/s10-the-central-limit-theorem-3}\n",
    "\n",
    "import math\n",
    "u=500\n",
    "sd=80\n",
    "a=500-(1.96*80)/(math.sqrt(100))\n",
    "b=500+(1.96*80)/(math.sqrt(100))\n",
    "print(round(a,2))\n",
    "print(round(b,2))"
   ]
  },
  {
   "cell_type": "code",
   "execution_count": null,
   "metadata": {},
   "outputs": [],
   "source": [
    "# Question ---> Day 7: Pearson Correlation Coefficient I {https://www.hackerrank.com/challenges/s10-pearson-correlation-coefficient}\n",
    "\n",
    "n=int(input())\n",
    "arr1=list(map(float,input().split()))\n",
    "arr2=list(map(float,input().split()))\n",
    "u1=sum(arr1)/n\n",
    "u2=sum(arr2)/n\n",
    "sd1=0\n",
    "sd2=0\n",
    "k=0\n",
    "for i in range(n):\n",
    "    k=k+((arr1[i]-u1)*(arr2[i]-u2))\n",
    "    sd1=sd1+pow((arr1[i]-u1),2)\n",
    "    sd2=sd2+pow((arr2[i]-u2),2)\n",
    "sd1=pow(sd1/n,0.5)\n",
    "sd2=pow(sd2/n,0.5)\n",
    "k=k/(n*sd1*sd2)\n",
    "print(round(k,3))"
   ]
  },
  {
   "cell_type": "code",
   "execution_count": null,
   "metadata": {},
   "outputs": [],
   "source": [
    "# Question ---> Least Square Regression Line {https://www.hackerrank.com/challenges/s10-least-square-regression-line}\n",
    "\n",
    "x1_arr=[95,85,80,70,60]\n",
    "y1_arr=[85,95,70,65,70]\n",
    "n=5\n",
    "u1=sum(x1_arr)/n\n",
    "u2=sum(y1_arr)/n\n",
    "sd1=0\n",
    "sd2=0\n",
    "k=0\n",
    "for i in range(n):\n",
    "    k=k+((x1_arr[i]-u1)*(y1_arr[i]-u2))\n",
    "    sd1=sd1+pow((x1_arr[i]-u1),2)\n",
    "    sd2=sd2+pow((y1_arr[i]-u2),2)\n",
    "sd1=pow(sd1/n,0.5)\n",
    "sd2=pow(sd2/n,0.5)\n",
    "p=k/(n*sd1*sd2)\n",
    "b=(p*sd2)/sd1\n",
    "a=u2-(b*u1)\n",
    "y=a+(b*80)\n",
    "print(round(y,3))"
   ]
  },
  {
   "cell_type": "code",
   "execution_count": null,
   "metadata": {},
   "outputs": [],
   "source": [
    "# Question ---> Day 9: Multiple Linear Regression\n",
    "\n",
    "import math\n",
    "import numpy as np\n",
    "from numpy.linalg import inv\n",
    "p,q=map(int,input().split())\n",
    "arr1= []\n",
    "new=[]\n",
    "arr2=[]\n",
    "for i in range(q):\n",
    "    arrrr=list(map(float,input().split()))\n",
    "    arr1.append([1] + arrrr[0:p])\n",
    "    arr2.append(arrrr[p])\n",
    "q=int(input())\n",
    "for i in range(q):\n",
    "    arrrr=list(map(float,input().split()))\n",
    "    new.append([1] + arrrr[0:p])   \n",
    "X_arr = np.asarray(arr1)\n",
    "Y_arr = np.asarray(arr2)\n",
    "new_arr = np.asarray(new)\n",
    "arr1_upd = X_arr.transpose()\n",
    "out = np.matmul(np.matmul(inv(np.matmul(arr1_upd,arr1)),arr1_upd),arr2)\n",
    "Y_out = np.matmul(new,out)\n",
    "for i in range(q):\n",
    "    print(Y_out[i])"
   ]
  }
 ],
 "metadata": {
  "kernelspec": {
   "display_name": "Python 3",
   "language": "python",
   "name": "python3"
  },
  "language_info": {
   "codemirror_mode": {
    "name": "ipython",
    "version": 3
   },
   "file_extension": ".py",
   "mimetype": "text/x-python",
   "name": "python",
   "nbconvert_exporter": "python",
   "pygments_lexer": "ipython3",
   "version": "3.8.5"
  }
 },
 "nbformat": 4,
 "nbformat_minor": 4
}
