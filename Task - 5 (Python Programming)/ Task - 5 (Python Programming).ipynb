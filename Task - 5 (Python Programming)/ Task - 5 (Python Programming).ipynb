{
 "cells": [
  {
   "cell_type": "code",
   "execution_count": 1,
   "metadata": {},
   "outputs": [],
   "source": [
    "# Question ---> Detect Floating Point Number\n",
    "\n",
    "import re\n",
    "m=int(input())\n",
    "def result(k):\n",
    "    matcher=re.compile(r'^[\\+\\.-]?\\d*\\.\\d+$')\n",
    "    out=bool(matcher.match(k))\n",
    "    return out\n",
    "\n",
    "for i in range(m):\n",
    "    k=input()\n",
    "    outpt=result(k)\n",
    "    print(outpt)"
   ]
  },
  {
   "cell_type": "code",
   "execution_count": 2,
   "metadata": {},
   "outputs": [],
   "source": [
    "# Question ---> Re.split()\n",
    "\n",
    "regex_pattern = r\"[.,]\"\t# Do not delete 'r'.\n",
    "import re\n",
    "print(\"\\n\".join(re.split(regex_pattern, input())))"
   ]
  },
  {
   "cell_type": "code",
   "execution_count": 3,
   "metadata": {},
   "outputs": [],
   "source": [
    "# Question ---> Group(), Groups() & Groupdict()\n",
    "\n",
    "import re\n",
    "inp=input()\n",
    "match=re.compile(r\"([a-zA-Z0-9])\\1\")\n",
    "matcher=match.search(inp)\n",
    "if match.findall(inp)==[]:\n",
    "    print(-1)\n",
    "else:\n",
    "    print(matcher.group(1))\n",
    "    "
   ]
  },
  {
   "cell_type": "code",
   "execution_count": 4,
   "metadata": {},
   "outputs": [],
   "source": [
    "# Question ---> Re.findall() & Re.finditer()\n",
    "\n",
    "import re\n",
    "inp=input()\n",
    "const='mnbvcxzlkjhgfdsqwrtypMNBVCXZKLJHGFDSQWRTYP'\n",
    "vowel='aeiouAEIOU'\n",
    "match=re.compile(r'(?<=['+const+'])(['+vowel+']{2,})(?=['+const+'])')\n",
    "if match.search(inp):\n",
    "    for i in match.findall(inp):\n",
    "        print(i)\n",
    "else:\n",
    "    print(-1)\n",
    "    "
   ]
  },
  {
   "cell_type": "code",
   "execution_count": 5,
   "metadata": {},
   "outputs": [],
   "source": [
    "# Question ---> Re.start() & Re.end()\n",
    "\n",
    "import re\n",
    "S=input()\n",
    "k=input()\n",
    "match=re.compile(r\"(?=%s)\"%k)\n",
    "if match.search(S):\n",
    "    for i in match.finditer(S):\n",
    "        print('({}, {})'.format(i.start(),i.start()+len(k)-1))\n",
    "else:\n",
    "    print((-1,-1))\n",
    "        "
   ]
  },
  {
   "cell_type": "code",
   "execution_count": 6,
   "metadata": {},
   "outputs": [],
   "source": [
    "# Question ---> Regex Substitution\n",
    "\n",
    "import re\n",
    "n=int(input())\n",
    "matcher=re.compile(r\"(?<= )(?P<first>&&)(?= )|(?<= )(?P<second>\\|\\|)(?=[ ])\")\n",
    "def out(match):\n",
    "    if match.group(\"first\")==\"&&\":\n",
    "        return 'and'\n",
    "    elif match.group(\"second\") ==\"||\":\n",
    "        return 'or'\n",
    "for i in range(n):\n",
    "    inp=input()\n",
    "    mapp=matcher.sub(out,inp)\n",
    "    print(mapp)\n"
   ]
  },
  {
   "cell_type": "code",
   "execution_count": 7,
   "metadata": {},
   "outputs": [],
   "source": [
    "# Question ---> Validating Roman Numerals\n",
    "\n",
    "regex_pattern = (r\"^M{0,3}(CM|CD|D?C{0,3})(XC|XL|L?X{0,3})(IX|IV|V?I{0,3})$\")    # Do not delete 'r'.\n",
    "import re\n",
    "print(str(bool(re.match(regex_pattern, input()))))\n"
   ]
  },
  {
   "cell_type": "code",
   "execution_count": 8,
   "metadata": {},
   "outputs": [],
   "source": [
    "# Question ---> Validating phone numbers\n",
    "\n",
    "import re\n",
    "n=int(input())\n",
    "def valid(k):\n",
    "    match=re.search('^[789]\\d{9}$',k)\n",
    "    if match==None:\n",
    "        return 'NO'\n",
    "    else:\n",
    "        return 'YES'\n",
    "for i in range(n):\n",
    "    k=input()\n",
    "    match=valid(k)\n",
    "    print(match)\n",
    "    "
   ]
  },
  {
   "cell_type": "code",
   "execution_count": 9,
   "metadata": {},
   "outputs": [],
   "source": [
    "# Question ---> Validating and Parsing Email Addresses\n",
    "\n",
    "from email.utils import*\n",
    "import re\n",
    "match=re.compile(r\"^[A-Za-z][\\w\\.-]+@[A-Za-z]+\\.([A-Za-z]{1,3})$\")\n",
    "n=int(input())\n",
    "for i in range(n):\n",
    "    inp=input()\n",
    "    p,q=parseaddr(inp)\n",
    "    if match.search(q):\n",
    "        print(formataddr((p,q)))"
   ]
  },
  {
   "cell_type": "code",
   "execution_count": 10,
   "metadata": {},
   "outputs": [],
   "source": [
    "# Question ---> Hex Color Code\n",
    "\n",
    "import sys\n",
    "import re\n",
    "def match(p):\n",
    "    matcher=re.compile(r\"(\\#[0-9a-fA-F]{6}|\\#[0-9a-fA-F]{3})\")\n",
    "    return matcher.findall(p)\n",
    "size=int(sys.stdin.readline())\n",
    "for nline in range(size):\n",
    "    line = sys.stdin.readline()\n",
    "    if line.find(\":\") < 0:\n",
    "        continue\n",
    "    for color in match(line):\n",
    "        print(color)"
   ]
  },
  {
   "cell_type": "code",
   "execution_count": 11,
   "metadata": {},
   "outputs": [],
   "source": [
    "# Question ---> HTML Parser - Part 1\n",
    "\n",
    "from HTMLParser import HTMLParser\n",
    "class HackerRankParser(HTMLParser):\n",
    "    def handle_starttag(self,tag,attri):\n",
    "        print(\"Start : %s\" % tag)\n",
    "        for i in attri:\n",
    "            print(\"-> %s > %s\" % i)\n",
    "    def handle_endtag(self, tag):\n",
    "        print(\"End   : %s\" % tag)\n",
    "    def handle_comment(self,comment):\n",
    "        pass\n",
    "    def handle_startendtag(self,tag,attri):\n",
    "        print(\"Empty : %s\" % tag)\n",
    "        for i in attri:\n",
    "            print(\"-> %s > %s\" % i)\n",
    "    \n",
    "pars=HackerRankParser()\n",
    "pars.feed(''.join([raw_input() for i in range(int(raw_input()))]))"
   ]
  },
  {
   "cell_type": "code",
   "execution_count": 12,
   "metadata": {},
   "outputs": [],
   "source": [
    "# Question ---> HTML Parser - Part 2\n",
    "\n",
    "from HTMLParser import HTMLParser\n",
    "\n",
    "class MyHTMLParser(HTMLParser):\n",
    "    def handle_comment(self, comment):\n",
    "        comment_type = 'Multi' if '\\n' in comment else 'Single'\n",
    "        print('>>> %s-line Comment' % comment_type)\n",
    "        print(comment)\n",
    "    def handle_data(self, data):\n",
    "        if data != '\\r\\n':\n",
    "            print('>>> Data')\n",
    "            print(data)  \n",
    "  \n",
    "html = \"\"       \n",
    "for i in range(int(raw_input())):\n",
    "    html += raw_input().rstrip()\n",
    "    html += '\\n'\n",
    "    \n",
    "parser = MyHTMLParser()\n",
    "parser.feed(html)\n",
    "parser.close()"
   ]
  },
  {
   "cell_type": "code",
   "execution_count": 13,
   "metadata": {},
   "outputs": [],
   "source": [
    "# Question ---> Detect HTML Tags, Attributes and Attribute Values\n",
    "\n",
    "from HTMLParser import*\n",
    "class MyHTMLParser(HTMLParser):\n",
    "    def handle_starttag(self,tag,attri):\n",
    "        print(tag)\n",
    "        if len(attri)!=0:\n",
    "            for i in attri:\n",
    "                x,y=i\n",
    "                print(\"-> %s > %s \" %(x,y))\n",
    "Pars=MyHTMLParser()\n",
    "k=int(raw_input().strip())\n",
    "for i in range(k):\n",
    "    m=raw_input().strip()\n",
    "    Pars.feed(m)"
   ]
  },
  {
   "cell_type": "code",
   "execution_count": 14,
   "metadata": {},
   "outputs": [],
   "source": [
    "# Question ---> Validating UID\n",
    "\n",
    "import re\n",
    "n=int(input())\n",
    "def matcher(inp):\n",
    "    inpp=''.join(sorted(list(set(inp))))\n",
    "    match=re.compile(r\"^[0-9]{3,}[A-Z]{2,}[a-z]*$\")\n",
    "    m=len(inp)\n",
    "    n=len(inpp)\n",
    "    if m==n:\n",
    "        if m==10:\n",
    "            if match.search(inpp):\n",
    "                return 'Valid'\n",
    "    return 'Invalid'\n",
    "for i in range(n):\n",
    "    inp=input().strip()\n",
    "    out=matcher(inp)\n",
    "    print(out)\n",
    "        "
   ]
  },
  {
   "cell_type": "code",
   "execution_count": 15,
   "metadata": {},
   "outputs": [],
   "source": [
    "# Question ---> Validating Credit Card Numbers\n",
    "\n",
    "import re\n",
    "n=int(input())\n",
    "def match(inp):\n",
    "    matcher=re.compile(r'^[456]{1}(\\d{15}|\\d{3}-\\d{4}-\\d{4}-\\d{4})$')\n",
    "    out=matcher.search(inp)\n",
    "    if out:\n",
    "        p=out.group().replace('-','')\n",
    "        q,new = 1,p[0]\n",
    "        for j in p[1:]:\n",
    "            if (j==new):\n",
    "                q=q+1\n",
    "            else:\n",
    "                q,new=1,j\n",
    "            if (q==4):\n",
    "                break\n",
    "        if q!=4:\n",
    "            return 'Valid'\n",
    "    return 'Invalid'       \n",
    "for i in range(n):\n",
    "    inp=input()\n",
    "    k=match(inp)\n",
    "    print(k)"
   ]
  },
  {
   "cell_type": "code",
   "execution_count": 16,
   "metadata": {},
   "outputs": [],
   "source": [
    "# Question ---> Validating Postal Codes\n",
    "\n",
    "P=input()\n",
    "p1= P[0]==P[2]\n",
    "p2 = P[2]==P[4]\n",
    "p3 = P[1]==P[3]\n",
    "p4 = P[3]==P[5]\n",
    "alternating = (p1 and p2) or (p1 and p3) or (p1 and p4) or (p2 and p3) or (p2 and p4) or (p3 and p4)\n",
    "print (P is not None and P.isdigit() and int(P)>100000 and int(P)<999999 and not alternating)"
   ]
  },
  {
   "cell_type": "code",
   "execution_count": 17,
   "metadata": {},
   "outputs": [],
   "source": [
    "# Question ---> Matrix Script\n",
    "\n",
    "import re\n",
    "p,q=map(int,input().strip().split(\" \")) \n",
    "match=re.compile(r\"(?<=[A-Z0-9a-z])([^A-Z0-9]a-z)+(?=[A-Z0-9a-z])\")\n",
    "out=[]\n",
    "for i in range(p):\n",
    "    pos=input()\n",
    "    out.append(list(pos))\n",
    "pos=zip(*out)\n",
    "pos_2 = []\n",
    "for i in pos:\n",
    "    pos_2.append(\"\".join(i))\n",
    "pos_3= \"\".join(pos_2)    \n",
    "print(match.sub(\" \",pos_3))\n"
   ]
  }
 ],
 "metadata": {
  "kernelspec": {
   "display_name": "Python 3",
   "language": "python",
   "name": "python3"
  },
  "language_info": {
   "codemirror_mode": {
    "name": "ipython",
    "version": 3
   },
   "file_extension": ".py",
   "mimetype": "text/x-python",
   "name": "python",
   "nbconvert_exporter": "python",
   "pygments_lexer": "ipython3",
   "version": "3.8.5"
  }
 },
 "nbformat": 4,
 "nbformat_minor": 4
}
