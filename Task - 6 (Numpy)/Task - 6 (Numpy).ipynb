{
 "cells": [
  {
   "cell_type": "code",
   "execution_count": 1,
   "metadata": {},
   "outputs": [],
   "source": [
    "#Question ---> Arrays\n",
    "\n",
    "import numpy\n",
    "def arrays(arr):\n",
    "    for i in range(len(arr)//2):\n",
    "        arr[i],arr[len(arr)-1-i]=(arr[(len(arr)-1-i)]),(arr[i])\n",
    "    l=list(arr)\n",
    "    ar=numpy.array(l,float)\n",
    "    return ar  \n",
    "arr = input().strip().split(' ')\n",
    "result = arrays(arr)\n",
    "print(result)"
   ]
  },
  {
   "cell_type": "code",
   "execution_count": 2,
   "metadata": {},
   "outputs": [],
   "source": [
    "#Question ---> Shape and Reshape\n",
    "\n",
    "import numpy as np\n",
    "arr=np.array(input().split(),int)\n",
    "print(arr.reshape(3,3))"
   ]
  },
  {
   "cell_type": "code",
   "execution_count": 3,
   "metadata": {},
   "outputs": [],
   "source": [
    "#Question ---> Transpose and Flatten\n",
    "\n",
    "import numpy as np\n",
    "n,m=map(int,input().split())\n",
    "##arr=np.zeros(n*m)\n",
    "k=[]\n",
    "for i in range(n):\n",
    "    k.append(input().split())\n",
    "arr=np.array(k,int)\n",
    "print(np.transpose(arr))\n",
    "print(arr.flatten())"
   ]
  },
  {
   "cell_type": "code",
   "execution_count": 4,
   "metadata": {},
   "outputs": [],
   "source": [
    "#Question ---> Concatenate\n",
    "\n",
    "import numpy as np\n",
    "N,M,P=map(int,input().split())\n",
    "k=[]\n",
    "for i in range(N):\n",
    "    k.append(input().split())\n",
    "arr_1=np.array(k,int)\n",
    "k.clear()\n",
    "for i in range(M):\n",
    "    k.append(input().split())\n",
    "arr_2=np.array(k,int)\n",
    "print(np.concatenate((arr_1,arr_2),axis=0))"
   ]
  },
  {
   "cell_type": "code",
   "execution_count": 5,
   "metadata": {},
   "outputs": [],
   "source": [
    "#Question ---> Zeros and Ones\n",
    "\n",
    "import numpy as np\n",
    "M=list(map(int,input().split()))\n",
    "arr1=np.zeros(M)\n",
    "arr2=np.ones(M)\n",
    "arr1=arr1.astype(np.int)\n",
    "arr2=arr2.astype(np.int)\n",
    "print(arr1)\n",
    "print(arr2)"
   ]
  },
  {
   "cell_type": "code",
   "execution_count": 6,
   "metadata": {},
   "outputs": [],
   "source": [
    "#Question ---> Eye and Identity\n",
    "\n",
    "import numpy as np\n",
    "np.set_printoptions(legacy='1.13')\n",
    "N,M=map(int,input().split())\n",
    "arr=np.eye(N,M)\n",
    "print(arr)"
   ]
  },
  {
   "cell_type": "code",
   "execution_count": 7,
   "metadata": {},
   "outputs": [],
   "source": [
    "#Question ---> Array Mathematics\n",
    "\n",
    "import numpy as np\n",
    "N,M=map(int,input().split())\n",
    "k=[]\n",
    "for i in range(N):\n",
    "    k.append(input().split())\n",
    "a=np.array(k,int)\n",
    "k.clear()\n",
    "for i in range(N):\n",
    "    k.append(input().split())\n",
    "b=np.array(k,int)\n",
    "print(a+b)\n",
    "print(a-b)\n",
    "print(a*b)\n",
    "print(a//b)\n",
    "print(a%b)\n",
    "print(a**b)"
   ]
  },
  {
   "cell_type": "code",
   "execution_count": 8,
   "metadata": {},
   "outputs": [],
   "source": [
    "#Question ---> Floor, Ceil and Rint\n",
    "\n",
    "import numpy as np\n",
    "np.set_printoptions(sign=' ')\n",
    "arr=np.array(input().strip().split(), float)\n",
    "print(np.floor(arr))\n",
    "print(np.ceil(arr))\n",
    "print(np.rint(arr))"
   ]
  },
  {
   "cell_type": "code",
   "execution_count": 9,
   "metadata": {},
   "outputs": [],
   "source": [
    "#Question ---> Sum and Prod\n",
    "\n",
    "import numpy as np\n",
    "n,m=map(int,input().split())\n",
    "k=[]\n",
    "for i in range(n):\n",
    "    k.append(input().split())\n",
    "arr1=np.array(k,int)\n",
    "arr=np.sum(arr1,axis=0)\n",
    "print(np.prod(arr))"
   ]
  },
  {
   "cell_type": "code",
   "execution_count": 10,
   "metadata": {},
   "outputs": [],
   "source": [
    "#Question ---> Min and Max\n",
    "\n",
    "import numpy as np\n",
    "n,m=map(int,input().split())\n",
    "k=[]\n",
    "for i in range(n):\n",
    "    k.append(input().split())\n",
    "arr=np.array(k,int)\n",
    "ar1=np.min(arr,axis=1)\n",
    "print(np.max(ar1))"
   ]
  },
  {
   "cell_type": "code",
   "execution_count": 11,
   "metadata": {},
   "outputs": [],
   "source": [
    "#Question ---> Mean, Var, and Std\n",
    "\n",
    "import numpy as np\n",
    "n,m=map(int,input().strip().split())\n",
    "k=[]\n",
    "for i in range(n):\n",
    "    k.append(input().strip().split())\n",
    "arr=np.array(k,int)\n",
    "print(np.mean(arr,axis=1))\n",
    "print(np.var(arr,axis=0))\n",
    "k1=np.std(arr)\n",
    "print(str(round(k1,11)))"
   ]
  },
  {
   "cell_type": "code",
   "execution_count": 12,
   "metadata": {},
   "outputs": [],
   "source": [
    "#Question ---> Dot and Cross\n",
    "\n",
    "import numpy as np\n",
    "n=int(input())\n",
    "k=[]\n",
    "for i in range(n):\n",
    "    k.append(input().split())\n",
    "arr1=np.array(k,int)\n",
    "k.clear()\n",
    "for i in range(n):\n",
    "    k.append(input().split())\n",
    "arr2=np.array(k,int)\n",
    "print(np.matmul(arr1,arr2))"
   ]
  },
  {
   "cell_type": "code",
   "execution_count": 13,
   "metadata": {},
   "outputs": [],
   "source": [
    "#Question ---> Inner and Outer\n",
    "\n",
    "import numpy as np\n",
    "n=list(map(int,input().split()))\n",
    "m=list(map(int,input().split()))\n",
    "arr1=np.array(n)\n",
    "arr2=np.array(m)\n",
    "print(np.inner(arr1,arr2))\n",
    "print(np.outer(arr1,arr2))"
   ]
  },
  {
   "cell_type": "code",
   "execution_count": 14,
   "metadata": {},
   "outputs": [],
   "source": [
    "#Question ---> Polynomials\n",
    "\n",
    "import numpy as np\n",
    "n=list(map(float,input().split()))\n",
    "x=float(input())\n",
    "k=0\n",
    "for i in range(len(n)-1):\n",
    "    k=k+(n[i]*(np.power(x,(len(n)-i-1))))\n",
    "k=k+n[-1]\n",
    "print(k)"
   ]
  },
  {
   "cell_type": "code",
   "execution_count": 15,
   "metadata": {},
   "outputs": [],
   "source": [
    "#Question ---> Linear Algebra\n",
    "\n",
    "import numpy as np\n",
    "n=int(input())\n",
    "k=[]\n",
    "for i in range(n):\n",
    "    k.append(input().split())\n",
    "ar=np.array(k,float)\n",
    "n=np.linalg.det(ar)\n",
    "print(round(n,2))"
   ]
  }
 ],
 "metadata": {
  "kernelspec": {
   "display_name": "Python 3",
   "language": "python",
   "name": "python3"
  },
  "language_info": {
   "codemirror_mode": {
    "name": "ipython",
    "version": 3
   },
   "file_extension": ".py",
   "mimetype": "text/x-python",
   "name": "python",
   "nbconvert_exporter": "python",
   "pygments_lexer": "ipython3",
   "version": "3.8.5"
  }
 },
 "nbformat": 4,
 "nbformat_minor": 4
}
