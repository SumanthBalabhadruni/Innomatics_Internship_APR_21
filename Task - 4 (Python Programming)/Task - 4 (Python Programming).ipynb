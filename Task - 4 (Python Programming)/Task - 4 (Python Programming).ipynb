{
 "cells": [
  {
   "cell_type": "code",
   "execution_count": null,
   "metadata": {},
   "outputs": [],
   "source": [
    "# Question ---> sWAP cASE\n",
    "\n",
    "def swap_case(s):\n",
    "    return s.swapcase()\n",
    "\n",
    "if __name__ == '__main__':\n",
    "    s = input()\n",
    "    result = swap_case(s)\n",
    "    print(result)"
   ]
  },
  {
   "cell_type": "code",
   "execution_count": 1,
   "metadata": {},
   "outputs": [],
   "source": [
    "# Question ---> String Split and Join\n",
    "\n",
    "def split_and_join(line):\n",
    "    line=line.split(' ')\n",
    "    line='-'.join(line)\n",
    "    return line\n",
    "\n",
    "if __name__ == '__main__':\n",
    "    line = input()\n",
    "    result = split_and_join(line)\n",
    "    print(result)"
   ]
  },
  {
   "cell_type": "code",
   "execution_count": 2,
   "metadata": {},
   "outputs": [],
   "source": [
    "# Question ---> What's Your Name?\n",
    "\n",
    "def print_full_name(first, last):    \n",
    "    print((\"Hello \") +(first) + ' ' +(last) + (\"! You just delved into python.\"))\n",
    "    return\n",
    "\n",
    "if __name__ == '__main__':\n",
    "    first_name = input()\n",
    "    last_name = input()\n",
    "    print_full_name(first_name, last_name)"
   ]
  },
  {
   "cell_type": "code",
   "execution_count": 3,
   "metadata": {},
   "outputs": [],
   "source": [
    "# Question ---> Mutations\n",
    "\n",
    "def mutate_string(string, position, character):\n",
    "    return (string[:position] + character +string[position+1:])\n",
    "\n",
    "if __name__ == '__main__':\n",
    "    s = input()\n",
    "    i, c = input().split()\n",
    "    s_new = mutate_string(s, int(i), c)\n",
    "    print(s_new)"
   ]
  },
  {
   "cell_type": "code",
   "execution_count": 4,
   "metadata": {},
   "outputs": [],
   "source": [
    "# Question ---> Find a string\n",
    "\n",
    "def count_substring(string, sub_string):\n",
    "    count=0\n",
    "    for i in range(len(string)-len(sub_string)+1):\n",
    "        if string[i:i+len(sub_string)]==sub_string:\n",
    "            count+=1\n",
    "    return count\n",
    "                \n",
    "if __name__ == '__main__':\n",
    "    string = input().strip()\n",
    "    sub_string = input().strip()\n",
    "    \n",
    "    count = count_substring(string, sub_string)\n",
    "    print(count)"
   ]
  },
  {
   "cell_type": "code",
   "execution_count": 5,
   "metadata": {},
   "outputs": [],
   "source": [
    "# Question ---> String Validators\n",
    "\n",
    "if __name__ == '__main__':\n",
    "    s =input()\n",
    "\n",
    "print(any([i.isalnum() for i in s]))  \n",
    "print(any([i.isalpha() for i in s]))   \n",
    "print(any([i.isdigit() for i in s]))         \n",
    "print(any([i.islower() for i in s]))\n",
    "print(any([i.isupper() for i in s]))"
   ]
  },
  {
   "cell_type": "code",
   "execution_count": 6,
   "metadata": {},
   "outputs": [],
   "source": [
    "# Question ---> Text Alignment\n",
    "\n",
    "thickness = int(input()) #This must be an odd number\n",
    "c = 'H'\n",
    "\n",
    "#Top Cone\n",
    "for i in range(thickness):\n",
    "    print((c*i).rjust(thickness-1)+c+(c*i).ljust(thickness-1))\n",
    "\n",
    "#Top Pillars\n",
    "for i in range(thickness+1):\n",
    "    print((c*thickness).center(thickness*2)+(c*thickness).center(thickness*6))\n",
    "\n",
    "#Middle Belt\n",
    "for i in range((thickness+1)//2):\n",
    "    print((c*thickness*5).center(thickness*6))    \n",
    "\n",
    "#Bottom Pillars\n",
    "for i in range(thickness+1):\n",
    "    print((c*thickness).center(thickness*2)+(c*thickness).center(thickness*6))    \n",
    "\n",
    "#Bottom Cone\n",
    "for i in range(thickness):\n",
    "    print(((c*(thickness-i-1)).rjust(thickness)+c+(c*(thickness-i-1)).ljust(thickness)).rjust(thickness*6))\n"
   ]
  },
  {
   "cell_type": "code",
   "execution_count": 7,
   "metadata": {},
   "outputs": [],
   "source": [
    "# Question ---> Text Wrap\n",
    "\n",
    "import textwrap\n",
    "\n",
    "def wrap(string, max_width):\n",
    "    k=len(string)%max_width\n",
    "    if k==0:\n",
    "        for i in range(0, (len(string)-2(max_width)),max_width):\n",
    "            print(string[i:i+max_width])\n",
    "        t=string[(len(string)-max_width):]\n",
    "    else:\n",
    "        for i in range(0, (len(string)-(max_width)),max_width):\n",
    "            print(string[i:i+max_width])\n",
    "        t=string[(len(string)-k):]\n",
    "    return t\n",
    "\n",
    "if __name__ == '__main__':\n",
    "    string, max_width = input(), int(input())\n",
    "    result = wrap(string, max_width)\n",
    "    print(result)"
   ]
  },
  {
   "cell_type": "code",
   "execution_count": null,
   "metadata": {},
   "outputs": [],
   "source": [
    "# Question ---> Designer Door Mat\n",
    "\n",
    "n,m=map(int,input().split())\n",
    "m=3*n\n",
    "for i in range(1,n,2):\n",
    "    print(('.|.'*i).center(m,'-'))\n",
    "print('WELCOME'.center(m,'-'))  \n",
    "for i in range(n-2,-1,-2):\n",
    "    print(('.|.'*(i)).center(m,'-'))"
   ]
  },
  {
   "cell_type": "code",
   "execution_count": null,
   "metadata": {},
   "outputs": [],
   "source": [
    "# Question ---> String Formatting\n",
    "\n",
    "def print_formatted(number):\n",
    "    l=len(bin(number))-2\n",
    "    for i in range(1,number+1):\n",
    "        print(sp(str(i),l),sp(oct(i)[2:],l),sp(hex(i)[2:],l),sp(bin(i)[2:],l))\n",
    "def sp(p,q):\n",
    "    return p.rjust(q).upper()\n",
    "        \n",
    "if __name__ == '__main__':\n",
    "    n = int(input())\n",
    "    print_formatted(n)"
   ]
  },
  {
   "cell_type": "code",
   "execution_count": null,
   "metadata": {},
   "outputs": [],
   "source": [
    "# Question ---> Alphabet Rangoli\n",
    "\n",
    "def print_rangoli(size):\n",
    "    let='abcdefghijklmnopqrstuvwxyz'\n",
    "    x=['-'.join(i) for i in [[alpha for alpha in let[i:size]][::-1]+[al for al in let[i:size]][1:] for i in range(size)]]\n",
    "    x=x[::-1]+x[1:size]\n",
    "    for i in range(len(x)):\n",
    "        print(x[i].center(len(x[size-1]),'-'))\n",
    "if __name__ == '__main__':\n",
    "    n = int(input())\n",
    "    print_rangoli(n)"
   ]
  },
  {
   "cell_type": "code",
   "execution_count": null,
   "metadata": {},
   "outputs": [],
   "source": [
    "# Question ---> Capitalize!\n",
    "\n",
    "def solve(s):\n",
    "    s=s[0].upper() + s[1:]\n",
    "    for i in range(0,len(s)):\n",
    "        if s[i]==' ' and s[i+1] != ' ':\n",
    "            s=s[:i+1] + s[i+1].upper() + s[i+2: ]\n",
    "    return s\n",
    "\n",
    "if __name__ == '__main__':\n",
    "    fptr = open(os.environ['OUTPUT_PATH'], 'w')\n",
    "    s = input()\n",
    "    result = solve(s)\n",
    "    fptr.write(result + '\\n')\n",
    "    fptr.close()"
   ]
  },
  {
   "cell_type": "code",
   "execution_count": null,
   "metadata": {},
   "outputs": [],
   "source": [
    "# Question ---> The Minion Game\n",
    "\n",
    "def minion_game(S):\n",
    "    S_length = len(S)\n",
    "    player1, player2 = 0,0\n",
    "\n",
    "    for i in range(S_length):\n",
    "        if S[i] in \"AEIOU\":\n",
    "            player1 += S_length - i\n",
    "        else:\n",
    "            player2 += S_length - i        \n",
    "    if player1 > player2:\n",
    "        print(\"Kevin\", player1)\n",
    "    elif player1 < player2:\n",
    "        print(\"Stuart\", player2)\n",
    "    else:\n",
    "        print(\"Draw\")\n",
    "    \n",
    "\n",
    "if __name__ == '__main__':\n",
    "    s = input()\n",
    "    minion_game(s)"
   ]
  },
  {
   "cell_type": "code",
   "execution_count": null,
   "metadata": {},
   "outputs": [],
   "source": [
    "# Question ---> Merge the Tools!\n",
    "\n",
    "def merge_the_tools(string, k):\n",
    "    k=int(k)\n",
    "    string=str(string)\n",
    "    for i in range(0,len(string),k):\n",
    "        t=(string[i:(i+k)])\n",
    "        new=''\n",
    "        for i in t:\n",
    "            if i not in new:\n",
    "                new=new+i\n",
    "        print(new)\n",
    "\n",
    "if __name__ == '__main__':\n",
    "    string, k = input(), int(input())\n",
    "    merge_the_tools(string, k)"
   ]
  }
 ],
 "metadata": {
  "kernelspec": {
   "display_name": "Python 3",
   "language": "python",
   "name": "python3"
  },
  "language_info": {
   "codemirror_mode": {
    "name": "ipython",
    "version": 3
   },
   "file_extension": ".py",
   "mimetype": "text/x-python",
   "name": "python",
   "nbconvert_exporter": "python",
   "pygments_lexer": "ipython3",
   "version": "3.8.5"
  }
 },
 "nbformat": 4,
 "nbformat_minor": 4
}
